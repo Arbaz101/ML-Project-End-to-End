{
 "cells": [
  {
   "cell_type": "code",
   "execution_count": null,
   "metadata": {},
   "outputs": [],
   "source": [
    "from Housing.config.configuration import Configuration"
   ]
  },
  {
   "cell_type": "code",
   "execution_count": null,
   "metadata": {},
   "outputs": [],
   "source": [
    "config = Configuration()"
   ]
  },
  {
   "cell_type": "code",
   "execution_count": null,
   "metadata": {},
   "outputs": [],
   "source": [
    "config.config_info"
   ]
  },
  {
   "cell_type": "code",
   "execution_count": null,
   "metadata": {},
   "outputs": [],
   "source": [
    "config.get_training_pipeline_config()"
   ]
  },
  {
   "cell_type": "code",
   "execution_count": null,
   "metadata": {},
   "outputs": [],
   "source": [
    "import os"
   ]
  },
  {
   "cell_type": "code",
   "execution_count": null,
   "metadata": {},
   "outputs": [],
   "source": [
    "import yaml"
   ]
  },
  {
   "cell_type": "code",
   "execution_count": 1,
   "metadata": {},
   "outputs": [],
   "source": [
    "from Housing.pipeline import pipeline"
   ]
  },
  {
   "cell_type": "code",
   "execution_count": 2,
   "metadata": {},
   "outputs": [],
   "source": [
    "pipe = pipeline()"
   ]
  },
  {
   "cell_type": "code",
   "execution_count": 3,
   "metadata": {},
   "outputs": [
    {
     "name": "stderr",
     "output_type": "stream",
     "text": [
      "d:\\Project\\ML-Project-End-to-End\\venv\\lib\\site-packages\\evidently\\analyzers\\stattests\\registry.py:43: FutureWarning: The series.append method is deprecated and will be removed from pandas in a future version. Use pandas.concat instead.\n",
      "  n_values = reference_data.append(current_data).nunique()\n",
      "d:\\Project\\ML-Project-End-to-End\\venv\\lib\\site-packages\\evidently\\analyzers\\stattests\\registry.py:54: FutureWarning: The series.append method is deprecated and will be removed from pandas in a future version. Use pandas.concat instead.\n",
      "  n_values = reference_data.append(current_data).nunique()\n",
      "d:\\Project\\ML-Project-End-to-End\\venv\\lib\\site-packages\\evidently\\analyzers\\stattests\\registry.py:43: FutureWarning: The series.append method is deprecated and will be removed from pandas in a future version. Use pandas.concat instead.\n",
      "  n_values = reference_data.append(current_data).nunique()\n",
      "d:\\Project\\ML-Project-End-to-End\\venv\\lib\\site-packages\\evidently\\analyzers\\stattests\\registry.py:54: FutureWarning: The series.append method is deprecated and will be removed from pandas in a future version. Use pandas.concat instead.\n",
      "  n_values = reference_data.append(current_data).nunique()\n"
     ]
    }
   ],
   "source": [
    "pipe.run_pipeline()"
   ]
  },
  {
   "cell_type": "code",
   "execution_count": null,
   "metadata": {},
   "outputs": [],
   "source": [
    "os.getcwd()"
   ]
  },
  {
   "cell_type": "code",
   "execution_count": null,
   "metadata": {},
   "outputs": [],
   "source": []
  },
  {
   "cell_type": "code",
   "execution_count": null,
   "metadata": {},
   "outputs": [],
   "source": [
    "from sklearn import preprocessing\n",
    "from Housing.logger import logging\n",
    "from Housing.exception import HousingException\n",
    "from Housing.entity.config_entity import DataTransformationConfig\n",
    "from Housing.entity.artifact_entity import DataIngestionArtifact, DataValidationArtifact, DataTransformationArtifact\n",
    "from Housing.utils.util import save_numpy_array_data, save_object, load_numpy_array_data, load_data\n",
    "import sys,os\n",
    "import pandas as pd\n",
    "import numpy as np\n",
    "from sklearn.base import BaseEstimator, TransformerMixin\n",
    "from sklearn.preprocessing import StandardScaler, OneHotEncoder\n",
    "from sklearn.pipeline import Pipeline\n",
    "from sklearn.impute import SimpleImputer\n",
    "from sklearn.compose import ColumnTransformer\n",
    "from Housing.constant import *"
   ]
  },
  {
   "cell_type": "code",
   "execution_count": null,
   "metadata": {},
   "outputs": [],
   "source": [
    "train_file_path = r'D:\\Project\\ML-Project-End-to-End\\Housing\\artifact\\data_ingestion\\2022-07-13-13-06-59\\ingested_data\\train\\housing.csv'\n",
    "test_file_path = r\"D:\\Project\\ML-Project-End-to-End\\Housing\\artifact\\data_ingestion\\2022-07-13-13-06-59\\ingested_data\\test\\housing.csv\"\n",
    "schema_file_path = r\"D:\\Project\\ML-Project-End-to-End\\config\\schema.yaml\""
   ]
  },
  {
   "cell_type": "code",
   "execution_count": null,
   "metadata": {},
   "outputs": [],
   "source": [
    "\n",
    "\n",
    "train_df = load_data(file_path=train_file_path,schema_file_path=schema_file_path)\n",
    "test_df = load_data(file_path=test_file_path, schema_file_path=schema_file_path)\n",
    "\n",
    "\n",
    "target_column_name = 'median_house_value'\n",
    "\n",
    "input_feature_train_df = train_df.drop(columns=[target_column_name], axis=1)\n",
    "target_feature_train_df = train_df[target_column_name]\n",
    "\n",
    "input_feature_test_df = test_df.drop(columns=[target_column_name], axis=1)\n",
    "target_feature_test_df = test_df[target_column_name]"
   ]
  },
  {
   "cell_type": "code",
   "execution_count": null,
   "metadata": {},
   "outputs": [],
   "source": [
    "input_feature_train_df"
   ]
  },
  {
   "cell_type": "code",
   "execution_count": null,
   "metadata": {},
   "outputs": [],
   "source": [
    "pd.read_csv(train_file_path)"
   ]
  },
  {
   "cell_type": "code",
   "execution_count": null,
   "metadata": {},
   "outputs": [],
   "source": []
  }
 ],
 "metadata": {
  "kernelspec": {
   "display_name": "Python 3.9.0 (conda)",
   "language": "python",
   "name": "python3"
  },
  "language_info": {
   "codemirror_mode": {
    "name": "ipython",
    "version": 3
   },
   "file_extension": ".py",
   "mimetype": "text/x-python",
   "name": "python",
   "nbconvert_exporter": "python",
   "pygments_lexer": "ipython3",
   "version": "3.9.0"
  },
  "orig_nbformat": 4,
  "vscode": {
   "interpreter": {
    "hash": "53681315b43fc6fd18a2be52e275ec2e16bb15566d64cc8909125a4d18ee0c1e"
   }
  }
 },
 "nbformat": 4,
 "nbformat_minor": 2
}
